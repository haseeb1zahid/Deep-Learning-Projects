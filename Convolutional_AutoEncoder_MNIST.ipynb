{
  "nbformat": 4,
  "nbformat_minor": 0,
  "metadata": {
    "colab": {
      "name": "Convolutional_AutoEncoder_MNIST.ipynb",
      "version": "0.3.2",
      "provenance": []
    },
    "kernelspec": {
      "name": "python3",
      "display_name": "Python 3"
    },
    "accelerator": "GPU"
  },
  "cells": [
    {
      "metadata": {
        "id": "dUW6DekHXejd",
        "colab_type": "code",
        "colab": {
          "base_uri": "https://localhost:8080/",
          "height": 34
        },
        "outputId": "ebbffdc3-44d6-4d27-a627-05fc9f9c83d8"
      },
      "cell_type": "code",
      "source": [
        "from keras.layers import Input, Dense, Conv2D, MaxPooling2D, UpSampling2D\n",
        "from keras.models import Model\n",
        "from keras import backend as K"
      ],
      "execution_count": 1,
      "outputs": [
        {
          "output_type": "stream",
          "text": [
            "Using TensorFlow backend.\n"
          ],
          "name": "stderr"
        }
      ]
    },
    {
      "metadata": {
        "id": "Bue8KC09Xpju",
        "colab_type": "code",
        "colab": {}
      },
      "cell_type": "code",
      "source": [
        "# adapt this if using `channels_first` image data format\n",
        "\n",
        "input_img = Input(shape=(28, 28, 1))\n",
        "\n",
        "x = Conv2D(16, (3, 3), activation='relu', padding='same')(input_img)\n",
        "x = MaxPooling2D((2, 2), padding='same')(x)\n",
        "x = Conv2D(8, (3, 3), activation='relu', padding='same')(x)\n",
        "x = MaxPooling2D((2, 2), padding='same')(x)\n",
        "x = Conv2D(8, (3, 3), activation='relu', padding='same')(x)\n",
        "encoded = MaxPooling2D((2, 2), padding='same')(x)\n",
        "\n",
        "# at this point the representation is (4, 4, 8) i.e. 128-dimensional\n",
        "\n",
        "x = Conv2D(8, (3, 3), activation='relu', padding='same')(encoded)\n",
        "x = UpSampling2D((2, 2))(x)\n",
        "x = Conv2D(8, (3, 3), activation='relu', padding='same')(x)\n",
        "x = UpSampling2D((2, 2))(x)\n",
        "x = Conv2D(16, (3, 3), activation='relu')(x)\n",
        "x = UpSampling2D((2, 2))(x)\n",
        "decoded = Conv2D(1, (3, 3), activation='sigmoid', padding='same')(x)\n",
        "\n",
        "autoencoder = Model(input_img, decoded)\n",
        "autoencoder.compile(optimizer='adadelta', loss='binary_crossentropy')"
      ],
      "execution_count": 0,
      "outputs": []
    },
    {
      "metadata": {
        "id": "YWHpqlBiYTwS",
        "colab_type": "code",
        "colab": {
          "base_uri": "https://localhost:8080/",
          "height": 52
        },
        "outputId": "4d322d63-7a87-434e-8a6c-3f25ee55beef"
      },
      "cell_type": "code",
      "source": [
        "from keras.datasets import mnist\n",
        "import numpy as np\n",
        "\n",
        "(x_train, _), (x_test, _) = mnist.load_data()\n",
        "\n",
        "x_train = x_train.astype('float32') / 255.\n",
        "x_test = x_test.astype('float32') / 255.\n",
        "x_train = np.reshape(x_train, (len(x_train), 28, 28, 1))  # adapt this if using `channels_first` image data format\n",
        "x_test = np.reshape(x_test, (len(x_test), 28, 28, 1))  # adapt this if using `channels_first` image data format"
      ],
      "execution_count": 3,
      "outputs": [
        {
          "output_type": "stream",
          "text": [
            "Downloading data from https://s3.amazonaws.com/img-datasets/mnist.npz\n",
            "11493376/11490434 [==============================] - 4s 0us/step\n"
          ],
          "name": "stdout"
        }
      ]
    },
    {
      "metadata": {
        "id": "N74Y7vbWYVWZ",
        "colab_type": "code",
        "colab": {
          "base_uri": "https://localhost:8080/",
          "height": 1808
        },
        "outputId": "66efc7eb-522f-479d-821a-0ed51378b64e"
      },
      "cell_type": "code",
      "source": [
        "from keras.callbacks import TensorBoard\n",
        "\n",
        "autoencoder.fit(x_train, x_train,\n",
        "                epochs=50,\n",
        "                batch_size=128,\n",
        "                shuffle=True,\n",
        "                validation_data=(x_test, x_test),\n",
        "                callbacks=[TensorBoard(log_dir='/tmp/autoencoder')])"
      ],
      "execution_count": 5,
      "outputs": [
        {
          "output_type": "stream",
          "text": [
            "Train on 60000 samples, validate on 10000 samples\n",
            "Epoch 1/50\n",
            "60000/60000 [==============================] - 7s 116us/step - loss: 0.1148 - val_loss: 0.1126\n",
            "Epoch 2/50\n",
            "60000/60000 [==============================] - 7s 115us/step - loss: 0.1144 - val_loss: 0.1115\n",
            "Epoch 3/50\n",
            "60000/60000 [==============================] - 7s 115us/step - loss: 0.1137 - val_loss: 0.1090\n",
            "Epoch 4/50\n",
            "17024/60000 [=======>......................] - ETA: 4s - loss: 0.1135"
          ],
          "name": "stdout"
        },
        {
          "output_type": "stream",
          "text": [
            "60000/60000 [==============================] - 7s 115us/step - loss: 0.1129 - val_loss: 0.1128\n",
            "Epoch 5/50\n",
            "60000/60000 [==============================] - 7s 116us/step - loss: 0.1119 - val_loss: 0.1153\n",
            "Epoch 6/50\n",
            "60000/60000 [==============================] - 7s 115us/step - loss: 0.1111 - val_loss: 0.1089\n",
            "Epoch 7/50\n",
            "52736/60000 [=========================>....] - ETA: 0s - loss: 0.1103"
          ],
          "name": "stdout"
        },
        {
          "output_type": "stream",
          "text": [
            "60000/60000 [==============================] - 7s 116us/step - loss: 0.1103 - val_loss: 0.1073\n",
            "Epoch 8/50\n",
            "60000/60000 [==============================] - 7s 115us/step - loss: 0.1099 - val_loss: 0.1087\n",
            "Epoch 9/50\n",
            "60000/60000 [==============================] - 7s 115us/step - loss: 0.1094 - val_loss: 0.1087\n",
            "Epoch 10/50\n",
            "59008/60000 [============================>.] - ETA: 0s - loss: 0.1093"
          ],
          "name": "stdout"
        },
        {
          "output_type": "stream",
          "text": [
            "60000/60000 [==============================] - 7s 115us/step - loss: 0.1093 - val_loss: 0.1097\n",
            "Epoch 11/50\n",
            "60000/60000 [==============================] - 7s 115us/step - loss: 0.1089 - val_loss: 0.1037\n",
            "Epoch 12/50\n",
            "60000/60000 [==============================] - 7s 114us/step - loss: 0.1081 - val_loss: 0.1055\n",
            "Epoch 13/50\n",
            "59008/60000 [============================>.] - ETA: 0s - loss: 0.1077"
          ],
          "name": "stdout"
        },
        {
          "output_type": "stream",
          "text": [
            "60000/60000 [==============================] - 7s 113us/step - loss: 0.1077 - val_loss: 0.1051\n",
            "Epoch 14/50\n",
            "60000/60000 [==============================] - 7s 114us/step - loss: 0.1072 - val_loss: 0.1059\n",
            "Epoch 15/50\n",
            "60000/60000 [==============================] - 7s 114us/step - loss: 0.1069 - val_loss: 0.1075\n",
            "Epoch 16/50\n",
            "59008/60000 [============================>.] - ETA: 0s - loss: 0.1064"
          ],
          "name": "stdout"
        },
        {
          "output_type": "stream",
          "text": [
            "60000/60000 [==============================] - 7s 115us/step - loss: 0.1064 - val_loss: 0.1049\n",
            "Epoch 17/50\n",
            "60000/60000 [==============================] - 7s 114us/step - loss: 0.1062 - val_loss: 0.1083\n",
            "Epoch 18/50\n",
            "60000/60000 [==============================] - 7s 115us/step - loss: 0.1061 - val_loss: 0.1031\n",
            "Epoch 19/50\n",
            "58880/60000 [============================>.] - ETA: 0s - loss: 0.1055"
          ],
          "name": "stdout"
        },
        {
          "output_type": "stream",
          "text": [
            "60000/60000 [==============================] - 7s 115us/step - loss: 0.1055 - val_loss: 0.1059\n",
            "Epoch 20/50\n",
            "60000/60000 [==============================] - 7s 114us/step - loss: 0.1049 - val_loss: 0.1010\n",
            "Epoch 21/50\n",
            "60000/60000 [==============================] - 7s 114us/step - loss: 0.1047 - val_loss: 0.1038\n",
            "Epoch 22/50\n",
            "59008/60000 [============================>.] - ETA: 0s - loss: 0.1046"
          ],
          "name": "stdout"
        },
        {
          "output_type": "stream",
          "text": [
            "60000/60000 [==============================] - 7s 115us/step - loss: 0.1046 - val_loss: 0.1038\n",
            "Epoch 23/50\n",
            "60000/60000 [==============================] - 7s 114us/step - loss: 0.1042 - val_loss: 0.1038\n",
            "Epoch 24/50\n",
            "60000/60000 [==============================] - 7s 115us/step - loss: 0.1042 - val_loss: 0.1048\n",
            "Epoch 25/50\n",
            "59008/60000 [============================>.] - ETA: 0s - loss: 0.1039"
          ],
          "name": "stdout"
        },
        {
          "output_type": "stream",
          "text": [
            "60000/60000 [==============================] - 7s 115us/step - loss: 0.1039 - val_loss: 0.1043\n",
            "Epoch 26/50\n",
            "60000/60000 [==============================] - 7s 115us/step - loss: 0.1037 - val_loss: 0.1011\n",
            "Epoch 27/50\n",
            "60000/60000 [==============================] - 7s 115us/step - loss: 0.1033 - val_loss: 0.1010\n",
            "Epoch 28/50\n",
            "59008/60000 [============================>.] - ETA: 0s - loss: 0.1030"
          ],
          "name": "stdout"
        },
        {
          "output_type": "stream",
          "text": [
            "60000/60000 [==============================] - 7s 114us/step - loss: 0.1030 - val_loss: 0.1034\n",
            "Epoch 29/50\n",
            "60000/60000 [==============================] - 7s 115us/step - loss: 0.1026 - val_loss: 0.1004\n",
            "Epoch 30/50\n",
            "60000/60000 [==============================] - 7s 113us/step - loss: 0.1024 - val_loss: 0.1013\n",
            "Epoch 31/50\n",
            "59008/60000 [============================>.] - ETA: 0s - loss: 0.1021"
          ],
          "name": "stdout"
        },
        {
          "output_type": "stream",
          "text": [
            "60000/60000 [==============================] - 7s 114us/step - loss: 0.1021 - val_loss: 0.1018\n",
            "Epoch 32/50\n",
            "60000/60000 [==============================] - 7s 114us/step - loss: 0.1020 - val_loss: 0.1038\n",
            "Epoch 33/50\n",
            "60000/60000 [==============================] - 7s 114us/step - loss: 0.1018 - val_loss: 0.1018\n",
            "Epoch 34/50\n",
            "58880/60000 [============================>.] - ETA: 0s - loss: 0.1013"
          ],
          "name": "stdout"
        },
        {
          "output_type": "stream",
          "text": [
            "60000/60000 [==============================] - 7s 116us/step - loss: 0.1013 - val_loss: 0.1016\n",
            "Epoch 35/50\n",
            "60000/60000 [==============================] - 7s 116us/step - loss: 0.1012 - val_loss: 0.1020\n",
            "Epoch 36/50\n",
            "60000/60000 [==============================] - 7s 114us/step - loss: 0.1007 - val_loss: 0.0992\n",
            "Epoch 37/50\n",
            "58880/60000 [============================>.] - ETA: 0s - loss: 0.1006"
          ],
          "name": "stdout"
        },
        {
          "output_type": "stream",
          "text": [
            "60000/60000 [==============================] - 7s 116us/step - loss: 0.1007 - val_loss: 0.0996\n",
            "Epoch 38/50\n",
            "60000/60000 [==============================] - 7s 116us/step - loss: 0.1006 - val_loss: 0.1000\n",
            "Epoch 39/50\n",
            "60000/60000 [==============================] - 7s 116us/step - loss: 0.1007 - val_loss: 0.0979\n",
            "Epoch 40/50\n",
            "59008/60000 [============================>.] - ETA: 0s - loss: 0.1005"
          ],
          "name": "stdout"
        },
        {
          "output_type": "stream",
          "text": [
            "60000/60000 [==============================] - 7s 115us/step - loss: 0.1004 - val_loss: 0.1007\n",
            "Epoch 41/50\n",
            "60000/60000 [==============================] - 7s 115us/step - loss: 0.1003 - val_loss: 0.1020\n",
            "Epoch 42/50\n",
            "60000/60000 [==============================] - 7s 116us/step - loss: 0.1002 - val_loss: 0.0967\n",
            "Epoch 43/50\n",
            "58752/60000 [============================>.] - ETA: 0s - loss: 0.0998"
          ],
          "name": "stdout"
        },
        {
          "output_type": "stream",
          "text": [
            "60000/60000 [==============================] - 7s 115us/step - loss: 0.0997 - val_loss: 0.0982\n",
            "Epoch 44/50\n",
            "60000/60000 [==============================] - 7s 116us/step - loss: 0.0996 - val_loss: 0.0997\n",
            "Epoch 45/50\n",
            "60000/60000 [==============================] - 7s 117us/step - loss: 0.0995 - val_loss: 0.0985\n",
            "Epoch 46/50\n",
            "58368/60000 [============================>.] - ETA: 0s - loss: 0.0995"
          ],
          "name": "stdout"
        },
        {
          "output_type": "stream",
          "text": [
            "60000/60000 [==============================] - 7s 114us/step - loss: 0.0994 - val_loss: 0.0992\n",
            "Epoch 47/50\n",
            "60000/60000 [==============================] - 7s 115us/step - loss: 0.0993 - val_loss: 0.0985\n",
            "Epoch 48/50\n",
            "60000/60000 [==============================] - 7s 116us/step - loss: 0.0993 - val_loss: 0.0992\n",
            "Epoch 49/50\n",
            "58496/60000 [============================>.] - ETA: 0s - loss: 0.0993"
          ],
          "name": "stdout"
        },
        {
          "output_type": "stream",
          "text": [
            "60000/60000 [==============================] - 7s 113us/step - loss: 0.0993 - val_loss: 0.0966\n",
            "Epoch 50/50\n",
            "60000/60000 [==============================] - 7s 113us/step - loss: 0.0990 - val_loss: 0.1002\n"
          ],
          "name": "stdout"
        },
        {
          "output_type": "execute_result",
          "data": {
            "text/plain": [
              "<keras.callbacks.History at 0x7fd8835b72e8>"
            ]
          },
          "metadata": {
            "tags": []
          },
          "execution_count": 5
        }
      ]
    },
    {
      "metadata": {
        "id": "5TEdOoNUYeaz",
        "colab_type": "code",
        "colab": {
          "base_uri": "https://localhost:8080/",
          "height": 618
        },
        "outputId": "7c53bcc4-627f-4205-ebfe-863465ea5759"
      },
      "cell_type": "code",
      "source": [
        "from matplotlib import pyplot as plt\n",
        "decoded_imgs = autoencoder.predict(x_test)\n",
        "\n",
        "n = 10\n",
        "plt.figure(figsize=(20, 4))\n",
        "for i in range(n):\n",
        "    # display original\n",
        "    ax = plt.subplot(2, n, i)\n",
        "    plt.imshow(x_test[i].reshape(28, 28))\n",
        "    plt.gray()\n",
        "    ax.get_xaxis().set_visible(False)\n",
        "    ax.get_yaxis().set_visible(False)\n",
        "\n",
        "    # display reconstruction\n",
        "    ax = plt.subplot(2, n, i + n)\n",
        "    plt.imshow(decoded_imgs[i].reshape(28, 28))\n",
        "    plt.gray()\n",
        "    ax.get_xaxis().set_visible(False)\n",
        "    ax.get_yaxis().set_visible(False)\n",
        "plt.show()"
      ],
      "execution_count": 8,
      "outputs": [
        {
          "output_type": "error",
          "ename": "ValueError",
          "evalue": "ignored",
          "traceback": [
            "\u001b[0;31m---------------------------------------------------------------------------\u001b[0m",
            "\u001b[0;31mValueError\u001b[0m                                Traceback (most recent call last)",
            "\u001b[0;32m<ipython-input-8-adf0ab0be2a2>\u001b[0m in \u001b[0;36m<module>\u001b[0;34m()\u001b[0m\n\u001b[1;32m      6\u001b[0m \u001b[0;32mfor\u001b[0m \u001b[0mi\u001b[0m \u001b[0;32min\u001b[0m \u001b[0mrange\u001b[0m\u001b[0;34m(\u001b[0m\u001b[0mn\u001b[0m\u001b[0;34m)\u001b[0m\u001b[0;34m:\u001b[0m\u001b[0;34m\u001b[0m\u001b[0m\n\u001b[1;32m      7\u001b[0m     \u001b[0;31m# display original\u001b[0m\u001b[0;34m\u001b[0m\u001b[0;34m\u001b[0m\u001b[0m\n\u001b[0;32m----> 8\u001b[0;31m     \u001b[0max\u001b[0m \u001b[0;34m=\u001b[0m \u001b[0mplt\u001b[0m\u001b[0;34m.\u001b[0m\u001b[0msubplot\u001b[0m\u001b[0;34m(\u001b[0m\u001b[0;36m2\u001b[0m\u001b[0;34m,\u001b[0m \u001b[0mn\u001b[0m\u001b[0;34m,\u001b[0m \u001b[0mi\u001b[0m\u001b[0;34m)\u001b[0m\u001b[0;34m\u001b[0m\u001b[0m\n\u001b[0m\u001b[1;32m      9\u001b[0m     \u001b[0mplt\u001b[0m\u001b[0;34m.\u001b[0m\u001b[0mimshow\u001b[0m\u001b[0;34m(\u001b[0m\u001b[0mx_test\u001b[0m\u001b[0;34m[\u001b[0m\u001b[0mi\u001b[0m\u001b[0;34m]\u001b[0m\u001b[0;34m.\u001b[0m\u001b[0mreshape\u001b[0m\u001b[0;34m(\u001b[0m\u001b[0;36m28\u001b[0m\u001b[0;34m,\u001b[0m \u001b[0;36m28\u001b[0m\u001b[0;34m)\u001b[0m\u001b[0;34m)\u001b[0m\u001b[0;34m\u001b[0m\u001b[0m\n\u001b[1;32m     10\u001b[0m     \u001b[0mplt\u001b[0m\u001b[0;34m.\u001b[0m\u001b[0mgray\u001b[0m\u001b[0;34m(\u001b[0m\u001b[0;34m)\u001b[0m\u001b[0;34m\u001b[0m\u001b[0m\n",
            "\u001b[0;32m/usr/local/lib/python3.6/dist-packages/matplotlib/pyplot.py\u001b[0m in \u001b[0;36msubplot\u001b[0;34m(*args, **kwargs)\u001b[0m\n\u001b[1;32m   1048\u001b[0m \u001b[0;34m\u001b[0m\u001b[0m\n\u001b[1;32m   1049\u001b[0m     \u001b[0mfig\u001b[0m \u001b[0;34m=\u001b[0m \u001b[0mgcf\u001b[0m\u001b[0;34m(\u001b[0m\u001b[0;34m)\u001b[0m\u001b[0;34m\u001b[0m\u001b[0m\n\u001b[0;32m-> 1050\u001b[0;31m     \u001b[0ma\u001b[0m \u001b[0;34m=\u001b[0m \u001b[0mfig\u001b[0m\u001b[0;34m.\u001b[0m\u001b[0madd_subplot\u001b[0m\u001b[0;34m(\u001b[0m\u001b[0;34m*\u001b[0m\u001b[0margs\u001b[0m\u001b[0;34m,\u001b[0m \u001b[0;34m**\u001b[0m\u001b[0mkwargs\u001b[0m\u001b[0;34m)\u001b[0m\u001b[0;34m\u001b[0m\u001b[0m\n\u001b[0m\u001b[1;32m   1051\u001b[0m     \u001b[0mbbox\u001b[0m \u001b[0;34m=\u001b[0m \u001b[0ma\u001b[0m\u001b[0;34m.\u001b[0m\u001b[0mbbox\u001b[0m\u001b[0;34m\u001b[0m\u001b[0m\n\u001b[1;32m   1052\u001b[0m     \u001b[0mbyebye\u001b[0m \u001b[0;34m=\u001b[0m \u001b[0;34m[\u001b[0m\u001b[0;34m]\u001b[0m\u001b[0;34m\u001b[0m\u001b[0m\n",
            "\u001b[0;32m/usr/local/lib/python3.6/dist-packages/matplotlib/figure.py\u001b[0m in \u001b[0;36madd_subplot\u001b[0;34m(self, *args, **kwargs)\u001b[0m\n\u001b[1;32m   1072\u001b[0m                     \u001b[0mself\u001b[0m\u001b[0;34m.\u001b[0m\u001b[0m_axstack\u001b[0m\u001b[0;34m.\u001b[0m\u001b[0mremove\u001b[0m\u001b[0;34m(\u001b[0m\u001b[0max\u001b[0m\u001b[0;34m)\u001b[0m\u001b[0;34m\u001b[0m\u001b[0m\n\u001b[1;32m   1073\u001b[0m \u001b[0;34m\u001b[0m\u001b[0m\n\u001b[0;32m-> 1074\u001b[0;31m             \u001b[0ma\u001b[0m \u001b[0;34m=\u001b[0m \u001b[0msubplot_class_factory\u001b[0m\u001b[0;34m(\u001b[0m\u001b[0mprojection_class\u001b[0m\u001b[0;34m)\u001b[0m\u001b[0;34m(\u001b[0m\u001b[0mself\u001b[0m\u001b[0;34m,\u001b[0m \u001b[0;34m*\u001b[0m\u001b[0margs\u001b[0m\u001b[0;34m,\u001b[0m \u001b[0;34m**\u001b[0m\u001b[0mkwargs\u001b[0m\u001b[0;34m)\u001b[0m\u001b[0;34m\u001b[0m\u001b[0m\n\u001b[0m\u001b[1;32m   1075\u001b[0m \u001b[0;34m\u001b[0m\u001b[0m\n\u001b[1;32m   1076\u001b[0m         \u001b[0mself\u001b[0m\u001b[0;34m.\u001b[0m\u001b[0m_axstack\u001b[0m\u001b[0;34m.\u001b[0m\u001b[0madd\u001b[0m\u001b[0;34m(\u001b[0m\u001b[0mkey\u001b[0m\u001b[0;34m,\u001b[0m \u001b[0ma\u001b[0m\u001b[0;34m)\u001b[0m\u001b[0;34m\u001b[0m\u001b[0m\n",
            "\u001b[0;32m/usr/local/lib/python3.6/dist-packages/matplotlib/axes/_subplots.py\u001b[0m in \u001b[0;36m__init__\u001b[0;34m(self, fig, *args, **kwargs)\u001b[0m\n\u001b[1;32m     62\u001b[0m                     raise ValueError(\n\u001b[1;32m     63\u001b[0m                         \"num must be 1 <= num <= {maxn}, not {num}\".format(\n\u001b[0;32m---> 64\u001b[0;31m                             maxn=rows*cols, num=num))\n\u001b[0m\u001b[1;32m     65\u001b[0m                 \u001b[0mself\u001b[0m\u001b[0;34m.\u001b[0m\u001b[0m_subplotspec\u001b[0m \u001b[0;34m=\u001b[0m \u001b[0mGridSpec\u001b[0m\u001b[0;34m(\u001b[0m\u001b[0mrows\u001b[0m\u001b[0;34m,\u001b[0m \u001b[0mcols\u001b[0m\u001b[0;34m)\u001b[0m\u001b[0;34m[\u001b[0m\u001b[0mint\u001b[0m\u001b[0;34m(\u001b[0m\u001b[0mnum\u001b[0m\u001b[0;34m)\u001b[0m \u001b[0;34m-\u001b[0m \u001b[0;36m1\u001b[0m\u001b[0;34m]\u001b[0m\u001b[0;34m\u001b[0m\u001b[0m\n\u001b[1;32m     66\u001b[0m                 \u001b[0;31m# num - 1 for converting from MATLAB to python indexing\u001b[0m\u001b[0;34m\u001b[0m\u001b[0;34m\u001b[0m\u001b[0m\n",
            "\u001b[0;31mValueError\u001b[0m: num must be 1 <= num <= 20, not 0"
          ]
        },
        {
          "output_type": "display_data",
          "data": {
            "text/plain": [
              "<matplotlib.figure.Figure at 0x7fd8847b3fd0>"
            ]
          },
          "metadata": {
            "tags": []
          }
        }
      ]
    },
    {
      "metadata": {
        "id": "_kangMPfadvd",
        "colab_type": "code",
        "colab": {}
      },
      "cell_type": "code",
      "source": [
        ""
      ],
      "execution_count": 0,
      "outputs": []
    },
    {
      "metadata": {
        "id": "EPz8np9gYTtD",
        "colab_type": "code",
        "colab": {}
      },
      "cell_type": "code",
      "source": [
        ""
      ],
      "execution_count": 0,
      "outputs": []
    },
    {
      "metadata": {
        "id": "AxQvtSUJYTpG",
        "colab_type": "code",
        "colab": {}
      },
      "cell_type": "code",
      "source": [
        ""
      ],
      "execution_count": 0,
      "outputs": []
    },
    {
      "metadata": {
        "id": "RmqXLjkZYPFs",
        "colab_type": "code",
        "colab": {}
      },
      "cell_type": "code",
      "source": [
        ""
      ],
      "execution_count": 0,
      "outputs": []
    }
  ]
}