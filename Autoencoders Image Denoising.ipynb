{
  "nbformat": 4,
  "nbformat_minor": 0,
  "metadata": {
    "colab": {
      "name": "Untitled17.ipynb",
      "version": "0.3.2",
      "provenance": [],
      "collapsed_sections": [],
      "include_colab_link": true
    },
    "kernelspec": {
      "name": "python3",
      "display_name": "Python 3"
    },
    "accelerator": "GPU"
  },
  "cells": [
    {
      "cell_type": "markdown",
      "metadata": {
        "id": "view-in-github",
        "colab_type": "text"
      },
      "source": [
        "<a href=\"https://colab.research.google.com/github/haseeb1zahid/Deep-Learning-Projects/blob/master/Autoencoders%20Image%20Denoising.ipynb\" target=\"_parent\"><img src=\"https://colab.research.google.com/assets/colab-badge.svg\" alt=\"Open In Colab\"/></a>"
      ]
    },
    {
      "metadata": {
        "id": "63Qo_GbW74nn",
        "colab_type": "code",
        "colab": {}
      },
      "cell_type": "code",
      "source": [
        "from keras.datasets import mnist\n",
        "import numpy as np\n",
        "\n",
        "(x_train, _), (x_test, _) = mnist.load_data()\n",
        "\n",
        "x_train = x_train.astype('float32') / 255.\n",
        "x_test = x_test.astype('float32') / 255.\n",
        "x_train = np.reshape(x_train, (len(x_train), 28, 28, 1))  # adapt this if using `channels_first` image data format\n",
        "x_test = np.reshape(x_test, (len(x_test), 28, 28, 1))  # adapt this if using `channels_first` image data format\n",
        "\n",
        "noise_factor = 0.5\n",
        "x_train_noisy = x_train + noise_factor * np.random.normal(loc=0.0, scale=1.0, size=x_train.shape) \n",
        "x_test_noisy = x_test + noise_factor * np.random.normal(loc=0.0, scale=1.0, size=x_test.shape) \n",
        "\n",
        "x_train_noisy = np.clip(x_train_noisy, 0., 1.)\n",
        "x_test_noisy = np.clip(x_test_noisy, 0., 1.)"
      ],
      "execution_count": 0,
      "outputs": []
    },
    {
      "metadata": {
        "id": "EtkPNYWL7_fp",
        "colab_type": "code",
        "colab": {
          "base_uri": "https://localhost:8080/",
          "height": 125
        },
        "outputId": "4390f4f0-ca4b-4b15-d663-824bcfdaec69"
      },
      "cell_type": "code",
      "source": [
        "n = 10\n",
        "import matplotlib.pyplot as plt\n",
        "plt.figure(figsize=(20, 2))\n",
        "for i in range(1, n):\n",
        "    ax = plt.subplot(1, n, i)\n",
        "    plt.imshow(x_test_noisy[i].reshape(28, 28))\n",
        "    plt.gray()\n",
        "    ax.get_xaxis().set_visible(False)\n",
        "    ax.get_yaxis().set_visible(False)\n",
        "plt.show()"
      ],
      "execution_count": 21,
      "outputs": [
        {
          "output_type": "display_data",
          "data": {
            "image/png": "[encoded data removed]",
            "text/plain": [
              "<matplotlib.figure.Figure at 0x7fa76dffceb8>"
            ]
          },
          "metadata": {
            "tags": []
          }
        }
      ]
    },
    {
      "metadata": {
        "id": "kbY_Dtpr8GPS",
        "colab_type": "code",
        "colab": {}
      },
      "cell_type": "code",
      "source": [
        "from keras.layers import Input, Dense, Conv2D, MaxPooling2D, UpSampling2D\n",
        "from keras.models import Model\n",
        "from keras import backend as K\n",
        "\n",
        "input_img = Input(shape=(28, 28, 1))  # adapt this if using `channels_first` image data format\n",
        "\n",
        "x = Conv2D(32, (3, 3), activation='relu', padding='same')(input_img)\n",
        "x = MaxPooling2D((2, 2), padding='same')(x)\n",
        "x = Conv2D(32, (3, 3), activation='relu', padding='same')(x)\n",
        "encoded = MaxPooling2D((2, 2), padding='same')(x)\n",
        "\n",
        "# at this point the representation is (7, 7, 32)\n",
        "\n",
        "x = Conv2D(32, (3, 3), activation='relu', padding='same')(encoded)\n",
        "x = UpSampling2D((2, 2))(x)\n",
        "x = Conv2D(32, (3, 3), activation='relu', padding='same')(x)\n",
        "x = UpSampling2D((2, 2))(x)\n",
        "decoded = Conv2D(1, (3, 3), activation='sigmoid', padding='same')(x)\n",
        "\n",
        "autoencoder = Model(input_img, decoded)\n",
        "autoencoder.compile(optimizer='adadelta', loss='binary_crossentropy')"
      ],
      "execution_count": 0,
      "outputs": []
    },
    {
      "metadata": {
        "id": "pF6QpFSm9RAc",
        "colab_type": "code",
        "colab": {
          "base_uri": "https://localhost:8080/",
          "height": 3451
        },
        "outputId": "300bc447-28f5-484f-c9f6-fb974ab5f755"
      },
      "cell_type": "code",
      "source": [
        "autoencoder.fit(x_train_noisy, x_train,\n",
        "                epochs=100,\n",
        "                batch_size=128,\n",
        "                shuffle=True,\n",
        "                validation_data=(x_test_noisy, x_test))"
      ],
      "execution_count": 17,
      "outputs": [
        {
          "output_type": "stream",
          "text": [
            "Train on 60000 samples, validate on 10000 samples\n",
            "Epoch 1/100\n",
            "60000/60000 [==============================] - 9s 152us/step - loss: 0.1805 - val_loss: 0.1235\n",
            "Epoch 2/100\n",
            "60000/60000 [==============================] - 8s 126us/step - loss: 0.1206 - val_loss: 0.1174\n",
            "Epoch 3/100\n",
            "60000/60000 [==============================] - 8s 127us/step - loss: 0.1123 - val_loss: 0.1117\n",
            "Epoch 4/100\n",
            "60000/60000 [==============================] - 8s 127us/step - loss: 0.1081 - val_loss: 0.1070\n",
            "Epoch 5/100\n",
            "60000/60000 [==============================] - 8s 127us/step - loss: 0.1055 - val_loss: 0.1028\n",
            "Epoch 6/100\n",
            "60000/60000 [==============================] - 8s 126us/step - loss: 0.1039 - val_loss: 0.1017\n",
            "Epoch 7/100\n",
            "60000/60000 [==============================] - 8s 127us/step - loss: 0.1025 - val_loss: 0.1010\n",
            "Epoch 8/100\n",
            "60000/60000 [==============================] - 8s 127us/step - loss: 0.1019 - val_loss: 0.1017\n",
            "Epoch 9/100\n",
            "60000/60000 [==============================] - 8s 126us/step - loss: 0.1012 - val_loss: 0.1007\n",
            "Epoch 10/100\n",
            "60000/60000 [==============================] - 8s 127us/step - loss: 0.1007 - val_loss: 0.1008\n",
            "Epoch 11/100\n",
            "60000/60000 [==============================] - 8s 126us/step - loss: 0.1002 - val_loss: 0.0992\n",
            "Epoch 12/100\n",
            "60000/60000 [==============================] - 8s 126us/step - loss: 0.0998 - val_loss: 0.0993\n",
            "Epoch 13/100\n",
            "60000/60000 [==============================] - 8s 126us/step - loss: 0.0995 - val_loss: 0.0979\n",
            "Epoch 14/100\n",
            "60000/60000 [==============================] - 8s 127us/step - loss: 0.0992 - val_loss: 0.0992\n",
            "Epoch 15/100\n",
            "60000/60000 [==============================] - 8s 128us/step - loss: 0.0989 - val_loss: 0.0988\n",
            "Epoch 16/100\n",
            "60000/60000 [==============================] - 8s 127us/step - loss: 0.0986 - val_loss: 0.0986\n",
            "Epoch 17/100\n",
            "60000/60000 [==============================] - 8s 127us/step - loss: 0.0983 - val_loss: 0.0970\n",
            "Epoch 18/100\n",
            "60000/60000 [==============================] - 8s 130us/step - loss: 0.0982 - val_loss: 0.0972\n",
            "Epoch 19/100\n",
            "60000/60000 [==============================] - 8s 130us/step - loss: 0.0979 - val_loss: 0.0965\n",
            "Epoch 20/100\n",
            "60000/60000 [==============================] - 8s 130us/step - loss: 0.0978 - val_loss: 0.0981\n",
            "Epoch 21/100\n",
            "60000/60000 [==============================] - 8s 127us/step - loss: 0.0975 - val_loss: 0.0964\n",
            "Epoch 22/100\n",
            "60000/60000 [==============================] - 8s 126us/step - loss: 0.0975 - val_loss: 0.0962\n",
            "Epoch 23/100\n",
            "60000/60000 [==============================] - 8s 127us/step - loss: 0.0973 - val_loss: 0.0971\n",
            "Epoch 24/100\n",
            "60000/60000 [==============================] - 8s 126us/step - loss: 0.0971 - val_loss: 0.0963\n",
            "Epoch 25/100\n",
            "60000/60000 [==============================] - 8s 126us/step - loss: 0.0970 - val_loss: 0.0958\n",
            "Epoch 26/100\n",
            "60000/60000 [==============================] - 8s 129us/step - loss: 0.0969 - val_loss: 0.0957\n",
            "Epoch 27/100\n",
            "60000/60000 [==============================] - 8s 127us/step - loss: 0.0967 - val_loss: 0.0978\n",
            "Epoch 28/100\n",
            "60000/60000 [==============================] - 8s 126us/step - loss: 0.0966 - val_loss: 0.0964\n",
            "Epoch 29/100\n",
            "60000/60000 [==============================] - 8s 126us/step - loss: 0.0965 - val_loss: 0.0957\n",
            "Epoch 30/100\n",
            "60000/60000 [==============================] - 8s 126us/step - loss: 0.0964 - val_loss: 0.0965\n",
            "Epoch 31/100\n",
            "60000/60000 [==============================] - 8s 126us/step - loss: 0.0963 - val_loss: 0.0961\n",
            "Epoch 32/100\n",
            "60000/60000 [==============================] - 8s 125us/step - loss: 0.0963 - val_loss: 0.0962\n",
            "Epoch 33/100\n",
            "60000/60000 [==============================] - 8s 125us/step - loss: 0.0962 - val_loss: 0.0954\n",
            "Epoch 34/100\n",
            "60000/60000 [==============================] - 8s 127us/step - loss: 0.0961 - val_loss: 0.0952\n",
            "Epoch 35/100\n",
            "60000/60000 [==============================] - 8s 126us/step - loss: 0.0960 - val_loss: 0.0957\n",
            "Epoch 36/100\n",
            "60000/60000 [==============================] - 7s 125us/step - loss: 0.0960 - val_loss: 0.0960\n",
            "Epoch 37/100\n",
            "60000/60000 [==============================] - 8s 125us/step - loss: 0.0959 - val_loss: 0.0955\n",
            "Epoch 38/100\n",
            "60000/60000 [==============================] - 7s 125us/step - loss: 0.0958 - val_loss: 0.0948\n",
            "Epoch 39/100\n",
            "60000/60000 [==============================] - 8s 126us/step - loss: 0.0958 - val_loss: 0.0956\n",
            "Epoch 40/100\n",
            "60000/60000 [==============================] - 8s 127us/step - loss: 0.0957 - val_loss: 0.0948\n",
            "Epoch 41/100\n",
            "60000/60000 [==============================] - 8s 126us/step - loss: 0.0957 - val_loss: 0.0956\n",
            "Epoch 42/100\n",
            "60000/60000 [==============================] - 8s 126us/step - loss: 0.0956 - val_loss: 0.0947\n",
            "Epoch 43/100\n",
            "60000/60000 [==============================] - 8s 126us/step - loss: 0.0956 - val_loss: 0.0946\n",
            "Epoch 44/100\n",
            "60000/60000 [==============================] - 8s 125us/step - loss: 0.0955 - val_loss: 0.0960\n",
            "Epoch 45/100\n",
            "60000/60000 [==============================] - 8s 126us/step - loss: 0.0954 - val_loss: 0.0948\n",
            "Epoch 46/100\n",
            "60000/60000 [==============================] - 8s 126us/step - loss: 0.0953 - val_loss: 0.0968\n",
            "Epoch 47/100\n",
            "60000/60000 [==============================] - 8s 126us/step - loss: 0.0953 - val_loss: 0.0950\n",
            "Epoch 48/100\n",
            "60000/60000 [==============================] - 8s 125us/step - loss: 0.0953 - val_loss: 0.0947\n",
            "Epoch 49/100\n",
            "60000/60000 [==============================] - 8s 129us/step - loss: 0.0953 - val_loss: 0.0953\n",
            "Epoch 50/100\n",
            "60000/60000 [==============================] - 8s 126us/step - loss: 0.0952 - val_loss: 0.0943\n",
            "Epoch 51/100\n",
            "60000/60000 [==============================] - 8s 126us/step - loss: 0.0952 - val_loss: 0.0960\n",
            "Epoch 52/100\n",
            "60000/60000 [==============================] - 8s 126us/step - loss: 0.0950 - val_loss: 0.0944\n",
            "Epoch 53/100\n",
            "60000/60000 [==============================] - 8s 126us/step - loss: 0.0950 - val_loss: 0.0947\n",
            "Epoch 54/100\n",
            "60000/60000 [==============================] - 8s 126us/step - loss: 0.0951 - val_loss: 0.0944\n",
            "Epoch 55/100\n",
            "60000/60000 [==============================] - 8s 126us/step - loss: 0.0950 - val_loss: 0.0948\n",
            "Epoch 56/100\n",
            "60000/60000 [==============================] - 8s 125us/step - loss: 0.0950 - val_loss: 0.0952\n",
            "Epoch 57/100\n",
            "60000/60000 [==============================] - 8s 128us/step - loss: 0.0949 - val_loss: 0.0951\n",
            "Epoch 58/100\n",
            "60000/60000 [==============================] - 7s 125us/step - loss: 0.0950 - val_loss: 0.0941\n",
            "Epoch 59/100\n",
            "60000/60000 [==============================] - 8s 126us/step - loss: 0.0948 - val_loss: 0.0949\n",
            "Epoch 60/100\n",
            "60000/60000 [==============================] - 8s 126us/step - loss: 0.0948 - val_loss: 0.0941\n",
            "Epoch 61/100\n",
            "60000/60000 [==============================] - 8s 126us/step - loss: 0.0947 - val_loss: 0.0941\n",
            "Epoch 62/100\n",
            "60000/60000 [==============================] - 8s 126us/step - loss: 0.0947 - val_loss: 0.0944\n",
            "Epoch 63/100\n",
            "60000/60000 [==============================] - 8s 126us/step - loss: 0.0948 - val_loss: 0.0951\n",
            "Epoch 64/100\n",
            "60000/60000 [==============================] - 8s 127us/step - loss: 0.0947 - val_loss: 0.0939\n",
            "Epoch 65/100\n",
            "60000/60000 [==============================] - 7s 125us/step - loss: 0.0946 - val_loss: 0.0942\n",
            "Epoch 66/100\n",
            "60000/60000 [==============================] - 8s 125us/step - loss: 0.0946 - val_loss: 0.0943\n",
            "Epoch 67/100\n",
            "60000/60000 [==============================] - 8s 125us/step - loss: 0.0946 - val_loss: 0.0941\n",
            "Epoch 68/100\n",
            "60000/60000 [==============================] - 8s 125us/step - loss: 0.0947 - val_loss: 0.0948\n",
            "Epoch 69/100\n",
            "60000/60000 [==============================] - 8s 126us/step - loss: 0.0945 - val_loss: 0.0948\n",
            "Epoch 70/100\n",
            "60000/60000 [==============================] - 8s 125us/step - loss: 0.0946 - val_loss: 0.0939\n",
            "Epoch 71/100\n",
            "60000/60000 [==============================] - 8s 126us/step - loss: 0.0945 - val_loss: 0.0940\n",
            "Epoch 72/100\n",
            "60000/60000 [==============================] - 8s 126us/step - loss: 0.0945 - val_loss: 0.0941\n",
            "Epoch 73/100\n",
            "60000/60000 [==============================] - 8s 126us/step - loss: 0.0945 - val_loss: 0.0950\n",
            "Epoch 74/100\n",
            "60000/60000 [==============================] - 7s 125us/step - loss: 0.0944 - val_loss: 0.0945\n",
            "Epoch 75/100\n",
            "60000/60000 [==============================] - 8s 125us/step - loss: 0.0944 - val_loss: 0.0938\n",
            "Epoch 76/100\n",
            "60000/60000 [==============================] - 8s 127us/step - loss: 0.0944 - val_loss: 0.0947\n",
            "Epoch 77/100\n",
            "60000/60000 [==============================] - 8s 125us/step - loss: 0.0943 - val_loss: 0.0937\n",
            "Epoch 78/100\n",
            "60000/60000 [==============================] - 8s 126us/step - loss: 0.0943 - val_loss: 0.0941\n",
            "Epoch 79/100\n",
            "60000/60000 [==============================] - 8s 126us/step - loss: 0.0944 - val_loss: 0.0947\n",
            "Epoch 80/100\n",
            "60000/60000 [==============================] - 8s 126us/step - loss: 0.0943 - val_loss: 0.0944\n",
            "Epoch 81/100\n",
            "60000/60000 [==============================] - 8s 127us/step - loss: 0.0943 - val_loss: 0.0939\n",
            "Epoch 82/100\n",
            "60000/60000 [==============================] - 8s 126us/step - loss: 0.0943 - val_loss: 0.0947\n",
            "Epoch 83/100\n",
            "60000/60000 [==============================] - 8s 126us/step - loss: 0.0943 - val_loss: 0.0937\n",
            "Epoch 84/100\n",
            "60000/60000 [==============================] - 8s 125us/step - loss: 0.0943 - val_loss: 0.0943\n",
            "Epoch 85/100\n",
            "60000/60000 [==============================] - 8s 126us/step - loss: 0.0942 - val_loss: 0.0936\n",
            "Epoch 86/100\n",
            "60000/60000 [==============================] - 8s 126us/step - loss: 0.0941 - val_loss: 0.0937\n",
            "Epoch 87/100\n",
            "60000/60000 [==============================] - 8s 126us/step - loss: 0.0942 - val_loss: 0.0936\n",
            "Epoch 88/100\n",
            "60000/60000 [==============================] - 7s 125us/step - loss: 0.0941 - val_loss: 0.0937\n",
            "Epoch 89/100\n",
            "60000/60000 [==============================] - 8s 127us/step - loss: 0.0942 - val_loss: 0.0938\n",
            "Epoch 90/100\n",
            "60000/60000 [==============================] - 8s 126us/step - loss: 0.0941 - val_loss: 0.0940\n",
            "Epoch 91/100\n",
            "60000/60000 [==============================] - 8s 125us/step - loss: 0.0941 - val_loss: 0.0935\n",
            "Epoch 92/100\n",
            "60000/60000 [==============================] - 8s 126us/step - loss: 0.0941 - val_loss: 0.0938\n",
            "Epoch 93/100\n",
            "60000/60000 [==============================] - 8s 126us/step - loss: 0.0941 - val_loss: 0.0939\n",
            "Epoch 94/100\n",
            "60000/60000 [==============================] - 8s 125us/step - loss: 0.0940 - val_loss: 0.0944\n",
            "Epoch 95/100\n",
            "60000/60000 [==============================] - 8s 125us/step - loss: 0.0940 - val_loss: 0.0935\n",
            "Epoch 96/100\n",
            "60000/60000 [==============================] - 8s 126us/step - loss: 0.0940 - val_loss: 0.0937\n",
            "Epoch 97/100\n",
            "60000/60000 [==============================] - 8s 126us/step - loss: 0.0940 - val_loss: 0.0938\n",
            "Epoch 98/100\n",
            "60000/60000 [==============================] - 8s 127us/step - loss: 0.0941 - val_loss: 0.0942\n",
            "Epoch 99/100\n",
            "60000/60000 [==============================] - 8s 125us/step - loss: 0.0940 - val_loss: 0.0943\n",
            "Epoch 100/100\n",
            "60000/60000 [==============================] - 8s 126us/step - loss: 0.0940 - val_loss: 0.0938\n"
          ],
          "name": "stdout"
        },
        {
          "output_type": "execute_result",
          "data": {
            "text/plain": [
              "<keras.callbacks.History at 0x7fa76de1a080>"
            ]
          },
          "metadata": {
            "tags": []
          },
          "execution_count": 17
        }
      ]
    },
    {
      "metadata": {
        "id": "bi9VVk0qCPo4",
        "colab_type": "code",
        "colab": {
          "base_uri": "https://localhost:8080/",
          "height": 125
        },
        "cellView": "code",
        "outputId": "fcac9de4-b951-43f1-c003-0fb0f841ebb7"
      },
      "cell_type": "code",
      "source": [
        "n = 10\n",
        "import matplotlib.pyplot as plt\n",
        "plt.figure(figsize=(20, 2))\n",
        "for i in range(1, n):\n",
        "    ax = plt.subplot(1, n, i)\n",
        "    plt.imshow(x_test[i].reshape(28, 28))\n",
        "    plt.gray()\n",
        "    ax.get_xaxis().set_visible(False)\n",
        "    ax.get_yaxis().set_visible(False)\n",
        "plt.show()"
      ],
      "execution_count": 24,
      "outputs": [
        {
          "output_type": "display_data",
          "data": {
            "image/png": "[encoded data removed]",
            "text/plain": [
              "<matplotlib.figure.Figure at 0x7fa76deb1668>"
            ]
          },
          "metadata": {
            "tags": []
          }
        }
      ]
    }
  ]
}