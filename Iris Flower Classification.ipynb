{
 "cells": [
  {
   "cell_type": "code",
   "execution_count": 1,
   "metadata": {},
   "outputs": [
    {
     "name": "stderr",
     "output_type": "stream",
     "text": [
      "/usr/local/lib/python3.5/dist-packages/h5py/__init__.py:36: FutureWarning: Conversion of the second argument of issubdtype from `float` to `np.floating` is deprecated. In future, it will be treated as `np.float64 == np.dtype(float).type`.\n",
      "  from ._conv import register_converters as _register_converters\n",
      "Using TensorFlow backend.\n"
     ]
    }
   ],
   "source": [
    "import numpy\n",
    "import pandas\n",
    "from keras.models import Sequential\n",
    "from keras.layers import Dense\n",
    "from keras.wrappers.scikit_learn import KerasClassifier\n",
    "from keras.utils import np_utils\n",
    "from sklearn.model_selection import cross_val_score\n",
    "from sklearn.model_selection import KFold\n",
    "from sklearn.preprocessing import LabelEncoder\n",
    "from sklearn.pipeline import Pipeline"
   ]
  },
  {
   "cell_type": "code",
   "execution_count": 2,
   "metadata": {},
   "outputs": [],
   "source": [
    "# fix random seed for reproducibility\n",
    "seed = 7\n",
    "numpy.random.seed(seed)"
   ]
  },
  {
   "cell_type": "code",
   "execution_count": 3,
   "metadata": {},
   "outputs": [],
   "source": [
    "# load dataset\n",
    "dataframe = pandas.read_csv(\"iris.csv\", header=None)\n",
    "dataset = dataframe.values\n",
    "X = dataset[:,0:4].astype(float)\n",
    "Y = dataset[:,4]"
   ]
  },
  {
   "cell_type": "code",
   "execution_count": 4,
   "metadata": {},
   "outputs": [],
   "source": [
    "# encode class values as integers\n",
    "encoder = LabelEncoder()\n",
    "encoder.fit(Y)\n",
    "encoded_Y = encoder.transform(Y)\n",
    "\n",
    "# convert integers to dummy variables (i.e. one hot encoding)\n",
    "dummy_y = np_utils.to_categorical(encoded_Y)"
   ]
  },
  {
   "cell_type": "code",
   "execution_count": 15,
   "metadata": {},
   "outputs": [],
   "source": [
    "# create model, write code below\n",
    "def baseline_model():\n",
    "    network = Sequential()\n",
    "    network.add(Dense(4, activation='relu', input_dim=4))\n",
    "    network.add(Dense(8, activation='relu'))\n",
    "    network.add(Dense(3, activation='softmax'))\n",
    "   \n",
    "    # Compile model, write code below\n",
    "    network.compile(optimizer='Adam',\n",
    "                    loss='categorical_crossentropy',\n",
    "                    metrics=['accuracy'])\n",
    "    return network"
   ]
  },
  {
   "cell_type": "code",
   "execution_count": 18,
   "metadata": {},
   "outputs": [
    {
     "name": "stdout",
     "output_type": "stream",
     "text": [
      "Baseline: 98.00% (4.27%)\n"
     ]
    }
   ],
   "source": [
    "# evaluate model with standardized dataset\n",
    "estimator = KerasClassifier(build_fn=baseline_model, epochs=200, batch_size=5, verbose=0)\n",
    "\n",
    "kfold = KFold(n_splits=10, shuffle=True, random_state=seed)\n",
    "\n",
    "results = cross_val_score(estimator, X, dummy_y, cv=kfold)\n",
    "print(\"Baseline: %.2f%% (%.2f%%)\" % (results.mean()*100, results.std()*100))"
   ]
  },
  {
   "cell_type": "code",
   "execution_count": 21,
   "metadata": {},
   "outputs": [
    {
     "name": "stdout",
     "output_type": "stream",
     "text": [
      "Baseline: 96.00% (4.42%)\n"
     ]
    }
   ],
   "source": [
    "# smaller model\n",
    "def create_smaller():\n",
    "    # create model, write code below\n",
    "    network = Sequential()\n",
    "    network.add(Dense(4, activation='relu', input_dim=4))\n",
    "    network.add(Dense(1, activation='softmax'))\n",
    "   \n",
    "    # Compile model, write code below\n",
    "    network.compile(optimizer='Adam',\n",
    "                loss='binary_crossentropy',\n",
    "                metrics=['accuracy'])\n",
    "    return network    \n",
    "\n",
    "# evaluate model with standardized dataset\n",
    "estimator = KerasClassifier(build_fn=baseline_model, epochs=200, batch_size=5, verbose=0)\n",
    "\n",
    "kfold = KFold(n_splits=10, shuffle=True, random_state=seed)\n",
    "\n",
    "results = cross_val_score(estimator, X, dummy_y, cv=kfold)\n",
    "print(\"Baseline: %.2f%% (%.2f%%)\" % (results.mean()*100, results.std()*100))"
   ]
  },
  {
   "cell_type": "code",
   "execution_count": 23,
   "metadata": {},
   "outputs": [
    {
     "name": "stdout",
     "output_type": "stream",
     "text": [
      "Baseline: 91.33% (21.72%)\n"
     ]
    }
   ],
   "source": [
    "# bigger model\n",
    "def create_smaller():\n",
    "    # create model, write code below\n",
    "    network = Sequential()\n",
    "    network.add(Dense(4, activation='relu', input_dim=40))\n",
    "    network.add(Dense(8, activation='relu'))\n",
    "#     network.add(Dense(16, activation='relu'))\n",
    "    network.add(Dense(1, activation='softmax'))\n",
    "   \n",
    "    # Compile model, write code below\n",
    "    network.compile(optimizer='Adam',\n",
    "                loss='binary_crossentropy',\n",
    "                metrics=['accuracy'])\n",
    "    return network    \n",
    "\n",
    "# evaluate model with standardized dataset\n",
    "estimator = KerasClassifier(build_fn=baseline_model, epochs=200, batch_size=5, verbose=0)\n",
    "\n",
    "kfold = KFold(n_splits=10, shuffle=True, random_state=seed)\n",
    "\n",
    "results = cross_val_score(estimator, X, dummy_y, cv=kfold)\n",
    "print(\"Baseline: %.2f%% (%.2f%%)\" % (results.mean()*100, results.std()*100))"
   ]
  },
  {
   "cell_type": "code",
   "execution_count": 26,
   "metadata": {},
   "outputs": [
    {
     "name": "stdout",
     "output_type": "stream",
     "text": [
      "Epoch 1/50\n",
      "150/150 [==============================] - 5s 30ms/step - loss: 1.8772 - acc: 0.0000e+00\n",
      "Epoch 2/50\n",
      "150/150 [==============================] - 0s 871us/step - loss: 1.6039 - acc: 0.0000e+00\n",
      "Epoch 3/50\n",
      "150/150 [==============================] - 0s 693us/step - loss: 1.3824 - acc: 0.0067\n",
      "Epoch 4/50\n",
      "150/150 [==============================] - 0s 672us/step - loss: 1.2081 - acc: 0.1333\n",
      "Epoch 5/50\n",
      "150/150 [==============================] - 0s 805us/step - loss: 1.0840 - acc: 0.2867\n",
      "Epoch 6/50\n",
      "150/150 [==============================] - 0s 660us/step - loss: 0.9976 - acc: 0.4533\n",
      "Epoch 7/50\n",
      "150/150 [==============================] - 0s 718us/step - loss: 0.9396 - acc: 0.6600\n",
      "Epoch 8/50\n",
      "150/150 [==============================] - 0s 716us/step - loss: 0.8935 - acc: 0.6667\n",
      "Epoch 9/50\n",
      "150/150 [==============================] - 0s 928us/step - loss: 0.8546 - acc: 0.6667\n",
      "Epoch 10/50\n",
      "150/150 [==============================] - 0s 763us/step - loss: 0.8194 - acc: 0.7000\n",
      "Epoch 11/50\n",
      "150/150 [==============================] - 0s 742us/step - loss: 0.7864 - acc: 0.7200\n",
      "Epoch 12/50\n",
      "150/150 [==============================] - 0s 660us/step - loss: 0.7546 - acc: 0.7133\n",
      "Epoch 13/50\n",
      "150/150 [==============================] - 0s 700us/step - loss: 0.7241 - acc: 0.7133\n",
      "Epoch 14/50\n",
      "150/150 [==============================] - 0s 720us/step - loss: 0.6945 - acc: 0.7467\n",
      "Epoch 15/50\n",
      "150/150 [==============================] - 0s 802us/step - loss: 0.6664 - acc: 0.7600\n",
      "Epoch 16/50\n",
      "150/150 [==============================] - 0s 841us/step - loss: 0.6402 - acc: 0.7667\n",
      "Epoch 17/50\n",
      "150/150 [==============================] - 0s 761us/step - loss: 0.6135 - acc: 0.8000\n",
      "Epoch 18/50\n",
      "150/150 [==============================] - 0s 693us/step - loss: 0.5884 - acc: 0.8133\n",
      "Epoch 19/50\n",
      "150/150 [==============================] - 0s 827us/step - loss: 0.5640 - acc: 0.8267\n",
      "Epoch 20/50\n",
      "150/150 [==============================] - 0s 846us/step - loss: 0.5403 - acc: 0.8267\n",
      "Epoch 21/50\n",
      "150/150 [==============================] - 0s 694us/step - loss: 0.5179 - acc: 0.8467\n",
      "Epoch 22/50\n",
      "150/150 [==============================] - 0s 974us/step - loss: 0.4955 - acc: 0.8933\n",
      "Epoch 23/50\n",
      "150/150 [==============================] - 0s 749us/step - loss: 0.4746 - acc: 0.8933\n",
      "Epoch 24/50\n",
      "150/150 [==============================] - 0s 705us/step - loss: 0.4541 - acc: 0.8933\n",
      "Epoch 25/50\n",
      "150/150 [==============================] - 0s 741us/step - loss: 0.4369 - acc: 0.9133\n",
      "Epoch 26/50\n",
      "150/150 [==============================] - 0s 758us/step - loss: 0.4185 - acc: 0.8933\n",
      "Epoch 27/50\n",
      "150/150 [==============================] - 0s 706us/step - loss: 0.3998 - acc: 0.9267\n",
      "Epoch 28/50\n",
      "150/150 [==============================] - 0s 719us/step - loss: 0.3847 - acc: 0.9533\n",
      "Epoch 29/50\n",
      "150/150 [==============================] - 0s 915us/step - loss: 0.3685 - acc: 0.9333\n",
      "Epoch 30/50\n",
      "150/150 [==============================] - 0s 683us/step - loss: 0.3543 - acc: 0.9467\n",
      "Epoch 31/50\n",
      "150/150 [==============================] - 0s 702us/step - loss: 0.3407 - acc: 0.9533\n",
      "Epoch 32/50\n",
      "150/150 [==============================] - 0s 737us/step - loss: 0.3370 - acc: 0.9467\n",
      "Epoch 33/50\n",
      "150/150 [==============================] - 0s 850us/step - loss: 0.3153 - acc: 0.9467\n",
      "Epoch 34/50\n",
      "150/150 [==============================] - 0s 748us/step - loss: 0.3040 - acc: 0.9600\n",
      "Epoch 35/50\n",
      "150/150 [==============================] - 0s 710us/step - loss: 0.2945 - acc: 0.9733\n",
      "Epoch 36/50\n",
      "150/150 [==============================] - 0s 799us/step - loss: 0.2830 - acc: 0.9533\n",
      "Epoch 37/50\n",
      "150/150 [==============================] - 0s 686us/step - loss: 0.2730 - acc: 0.9733\n",
      "Epoch 38/50\n",
      "150/150 [==============================] - 0s 687us/step - loss: 0.2646 - acc: 0.9733\n",
      "Epoch 39/50\n",
      "150/150 [==============================] - 0s 736us/step - loss: 0.2559 - acc: 0.9733\n",
      "Epoch 40/50\n",
      "150/150 [==============================] - 0s 710us/step - loss: 0.2477 - acc: 0.9733\n",
      "Epoch 41/50\n",
      "150/150 [==============================] - 0s 719us/step - loss: 0.2404 - acc: 0.9733\n",
      "Epoch 42/50\n",
      "150/150 [==============================] - 0s 954us/step - loss: 0.2334 - acc: 0.9733\n",
      "Epoch 43/50\n",
      "150/150 [==============================] - 0s 745us/step - loss: 0.2270 - acc: 0.9667\n",
      "Epoch 44/50\n",
      "150/150 [==============================] - 0s 892us/step - loss: 0.2211 - acc: 0.9733\n",
      "Epoch 45/50\n",
      "150/150 [==============================] - 0s 915us/step - loss: 0.2153 - acc: 0.9733\n",
      "Epoch 46/50\n",
      "150/150 [==============================] - 0s 703us/step - loss: 0.2075 - acc: 0.9733\n",
      "Epoch 47/50\n",
      "150/150 [==============================] - 0s 929us/step - loss: 0.2019 - acc: 0.9733\n",
      "Epoch 48/50\n",
      "150/150 [==============================] - 0s 961us/step - loss: 0.1972 - acc: 0.9733\n",
      "Epoch 49/50\n",
      "150/150 [==============================] - 0s 853us/step - loss: 0.1940 - acc: 0.9733\n",
      "Epoch 50/50\n",
      "150/150 [==============================] - 0s 745us/step - loss: 0.1924 - acc: 0.9733\n"
     ]
    },
    {
     "data": {
      "text/plain": [
       "<keras.callbacks.History at 0x7f492316de10>"
      ]
     },
     "execution_count": 26,
     "metadata": {},
     "output_type": "execute_result"
    }
   ],
   "source": [
    "#This is perform on original model, not on smaller or larger models.\n",
    "network_return = baseline_model()\n",
    "network_return.fit(X, dummy_y, epochs=50, batch_size=8)"
   ]
  },
  {
   "cell_type": "code",
   "execution_count": null,
   "metadata": {},
   "outputs": [],
   "source": []
  }
 ],
 "metadata": {
  "kernelspec": {
   "display_name": "Python 3",
   "language": "python",
   "name": "python3"
  },
  "language_info": {
   "codemirror_mode": {
    "name": "ipython",
    "version": 3
   },
   "file_extension": ".py",
   "mimetype": "text/x-python",
   "name": "python",
   "nbconvert_exporter": "python",
   "pygments_lexer": "ipython3",
   "version": "3.5.2"
  }
 },
 "nbformat": 4,
 "nbformat_minor": 2
}
